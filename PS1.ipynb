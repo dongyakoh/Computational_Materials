{
 "cells": [
  {
   "cell_type": "markdown",
   "id": "fbd5538c",
   "metadata": {},
   "source": [
    "## Problem Set 1\n",
    "\n",
    "Please work on Python coding exercises. You should add a new cell right below each exercise to write down your code and execute the code. **This assignment is due next Thu before our class.**"
   ]
  },
  {
   "cell_type": "markdown",
   "id": "9e678093",
   "metadata": {},
   "source": [
    "## Exercise 1\n",
    "\n",
    "(1) Generate a data series $x$ that contains 100 random numbers drawn from a standard normal distribution (for this exercise, you only need to import NumPy package)."
   ]
  },
  {
   "cell_type": "markdown",
   "id": "ebfd2718",
   "metadata": {},
   "source": [
    "(2) Your variable $x$ contains both positive and negative numbers. Now, let's apply an exponential transformation to $x$. That is, we will create a new variable $y = \\exp(x)$. <font color='red'>Please note that NumPy package has an exponential function.</font>"
   ]
  },
  {
   "cell_type": "markdown",
   "id": "d9b2a8f1",
   "metadata": {},
   "source": [
    "(3) To check if you applied a correct exponential transformation, let's take log to see if you can recover the same numbers as $x$. That is, you will create a new variable $z = \\log(y)$ and compare $x$ and $z$. <font color='red'>Please note that NumPy package has a log function.</font>"
   ]
  },
  {
   "cell_type": "markdown",
   "id": "64be048c",
   "metadata": {},
   "source": [
    "## Exercise 2\n",
    "\n",
    "(1) Let's take $x$ variable that you created in the previous exercise. Please compute the following statistics (you can use NumPy functions if the following functions are available):\n",
    "1. Mean of $x$\n",
    "1. Standard deviation of $x$\n",
    "1. Maximum value of $x$\n",
    "1. Minimum value of $x$"
   ]
  },
  {
   "cell_type": "markdown",
   "id": "33088752",
   "metadata": {},
   "source": [
    "(2) Let's create a new variable $y = \\alpha x + \\epsilon$ where $\\epsilon$ is a random number from a standard normal distribution. Set $\\alpha=0.9$. Using this new variable $y$, please compute the correlation of $x$ and $y$.\n",
    "<font color='red'>To compute a correlation, you can either use: \n",
    "- $corr(x,y) = \\frac{cov(x,y)}{std(x)std(y)}$\n",
    "- Or, a Pearson correlation function in SciPy package.\n",
    "    \n",
    "For the former method, NumPy package contains ```std``` and ```cov``` to compute standard deviation of a variable and covariance of two variables, respectively. For the latter, you have to import ```scipy.stats```</font>"
   ]
  },
  {
   "cell_type": "markdown",
   "id": "9f5c93e9",
   "metadata": {},
   "source": [
    "(3) Set $\\alpha=0.1$ and compute the correlation of $x$ and $y$ again. How does the correlation change?"
   ]
  },
  {
   "cell_type": "markdown",
   "id": "e3635f17",
   "metadata": {},
   "source": [
    "## Exercise 3\n",
    "\n",
    "Your first task is to simulate and plot the correlated time series\n",
    "\n",
    "$$\n",
    "x_{t+1} = \\alpha \\, x_t + \\epsilon_{t+1}\n",
    "\\quad \\text{where} \\quad\n",
    "x_0 = 0\n",
    "\\quad \\text{and} \\quad t = 0,\\ldots,T\n",
    "$$\n",
    "\n",
    "The sequence of shocks $ \\{\\epsilon_t\\} $ is assumed to be IID and standard normal.\n",
    "\n",
    "In your solution, restrict your import statements to"
   ]
  },
  {
   "cell_type": "code",
   "execution_count": null,
   "id": "6964affa",
   "metadata": {},
   "outputs": [],
   "source": [
    "import numpy as np\n",
    "import matplotlib.pyplot as plt"
   ]
  },
  {
   "cell_type": "markdown",
   "id": "3902fcbb",
   "metadata": {},
   "source": [
    "Set $ T=200 $ and $ \\alpha = 0.9 $."
   ]
  },
  {
   "cell_type": "markdown",
   "id": "9bb9e966",
   "metadata": {},
   "source": [
    "## Exercise 4\n",
    "\n",
    "Starting with your solution to exercise 1, plot three simulated time series,\n",
    "one for each of the cases $ \\alpha=0 $, $ \\alpha=0.8 $ and $ \\alpha=0.98 $.\n",
    "\n",
    "Use a `for` loop to step through the $ \\alpha $ values.\n",
    "\n",
    "If you can, add a legend, to help distinguish between the three time series.\n",
    "\n",
    "- If you call the `plot()` function multiple times before calling `show()`, all of the lines you produce will end up on the same figure.  \n",
    "- For the legend, noted that suppose `var = 42`, the expression `f'foo{var}'` evaluates to `'foo42'`.  "
   ]
  },
  {
   "cell_type": "markdown",
   "id": "52b382e3",
   "metadata": {},
   "source": [
    "## Exercise 5\n",
    "\n",
    "Similar to the previous exercises, plot the time series\n",
    "\n",
    "$$\n",
    "x_{t+1} = \\alpha \\, |x_t| + \\epsilon_{t+1}\n",
    "\\quad \\text{where} \\quad\n",
    "x_0 = 0\n",
    "\\quad \\text{and} \\quad t = 0,\\ldots,T\n",
    "$$\n",
    "\n",
    "Use $ T=200 $, $ \\alpha = 0.9 $ and $ \\{\\epsilon_t\\} $ as before.\n",
    "\n",
    "Search online for a function that can be used to compute the absolute value $ |x_t| $."
   ]
  },
  {
   "cell_type": "markdown",
   "id": "c18108bb",
   "metadata": {},
   "source": [
    "## Exercise 6\n",
    "\n",
    "One important aspect of essentially all programming languages is branching and\n",
    "conditions.\n",
    "\n",
    "In Python, conditions are usually implemented with if–else syntax.\n",
    "\n",
    "Here’s an example, that prints -1 for each negative number in an array and 1\n",
    "for each nonnegative number."
   ]
  },
  {
   "cell_type": "code",
   "execution_count": null,
   "id": "283884fa",
   "metadata": {},
   "outputs": [],
   "source": [
    "numbers = [-9, 2.3, -11, 0]\n",
    "\n",
    "for x in numbers:\n",
    "    if x < 0:\n",
    "        print(-1)\n",
    "    else:\n",
    "        print(1)"
   ]
  },
  {
   "cell_type": "markdown",
   "id": "a81f5d26",
   "metadata": {},
   "source": [
    "Now, write a new solution to Exercise 3 that does not use an existing function\n",
    "to compute the absolute value.\n",
    "\n",
    "Replace this existing function with an if–else condition."
   ]
  }
 ],
 "metadata": {
  "kernelspec": {
   "display_name": "Python 3 (ipykernel)",
   "language": "python",
   "name": "python3"
  },
  "language_info": {
   "codemirror_mode": {
    "name": "ipython",
    "version": 3
   },
   "file_extension": ".py",
   "mimetype": "text/x-python",
   "name": "python",
   "nbconvert_exporter": "python",
   "pygments_lexer": "ipython3",
   "version": "3.7.4"
  }
 },
 "nbformat": 4,
 "nbformat_minor": 5
}
