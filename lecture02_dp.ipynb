{
 "cells": [
  {
   "cell_type": "markdown",
   "metadata": {
    "slideshow": {
     "slide_type": "slide"
    }
   },
   "source": [
    "## Contents\n",
    "- [Dynamic Programming (DP)](#Dynamic-Programming)\n",
    "    - [Finite-Horizon DP](#Finite-Horizon-DP)\n",
    "    - [Infinite-Horizon DP](#Infinite-Horizon-DP)\n",
    "- [Numerical Implementation of DP](#Numerical-Implementation-of-DP)\n",
    "    - [Neoclassical Growth Model](#Neoclassical-Growth-Model)\n",
    "    - [Value Function Iteration](#Value-Function-Iteration)\n",
    "    - [Alternative Solution Methods](#Alternative-Solution-Methods)"
   ]
  },
  {
   "cell_type": "markdown",
   "metadata": {
    "slideshow": {
     "slide_type": "slide"
    }
   },
   "source": [
    "# Dynamic Programming (DP)\n",
    "\n",
    "In this section, we briefly review the basic theory of Dynamic Programming. SLP is always a good place to learn the theory of DP. In this section, we review some of the important theorems in SLP to justify a recursive formulation of a sequential problem. Then we apply Bellman operator to formulate finite-horizon DP and infinite-horizon DP.\n",
    "\n",
    "In Section 2, we numerically implement DP and solve a standard neoclassical growth model. For the numerical method, we start with a very basic value function iteration algorithm. For the numerical methods, you may refer to LS Ch.4 or some other references in the syllabus.\n",
    "\n"
   ]
  },
  {
   "cell_type": "markdown",
   "metadata": {
    "slideshow": {
     "slide_type": "subslide"
    }
   },
   "source": [
    "## Finite-Horizon DP\n",
    "\n",
    "To illustrate a basic idea of dynamic programming, we follow the notations in LS Ch.3.\n",
    "First, we start with a finite-horizon problem and will extend this to an infinite-horizon problem.\n",
    "\n",
    "Consider a discrete-time finite-horizon problem indexed by $t=0,1,...,T<\\infty$. Let $\\beta\\in(0,1)$ be a discount factor and we choose a sequence of $\\{u_t\\}_{t=0}^T$ that maximizes the present discounted utility:\n",
    "\n",
    "$$W(x_0) \\equiv \\max_{\\{u_t\\}} \\sum_{t=0}^T \\beta^t r(x_t, u_t)$$\n",
    "\n",
    "subject to a constraint:\n",
    "\n",
    "$$x_{t+1} = g(x_t,u_t), \\quad t=0,1,2,...,T$$\n",
    "\n",
    "with $x_0>0$ given.\n",
    "\n",
    "In this problem, $u_t\\in U \\subset \\mathbb{R}^{m}$ is a control variable, $x_t\\in X \\subset \\mathbb{R}^{n}$ is a state variable, $g:X\\times U \\rightarrow X$ is a transition function, and $r:X\\times U \\rightarrow \\mathbb{R}$ is a reward function.\n",
    "\n",
    "We can reformulate this sequential problem into a recursive Bellman equation:\n",
    "\n",
    "$$V_t(x_t) = \\max_{u_t} r(x_t,u_t) + \\beta V_{t+1}(g(x_t,u_t)), \\quad t=0,1,2,...,T$$\n",
    "\n",
    "Then the following proposition illustrates the solution of this problem.\n",
    "\n",
    "**Proposition.** *$W(x_0) = V_0(x_0)$ where the function $V_0(x_0)$ is given by\n",
    "\\begin{align}\n",
    "V_T(x_T) &= \\max_{u_T} r(x_T,u_T)\\\\\n",
    "V_{T-1}(x_{T-1}) &= \\max_{u_{T-1}} r(x_{T-1},u_{T-1}) + \\beta V_{T}(g(x_{T-1},u_{T-1}))\\\\\n",
    "V_{T-2}(x_{T-2}) &= \\max_{u_{T-2}} r(x_{T-2},u_{T-2}) + \\beta V_{T-1}(g(x_{T-2},u_{T-2}))\\\\\n",
    ".\\\\\n",
    ".\\\\\n",
    ".\\\\\n",
    "V_{1}(x_{1}) &= \\max_{u_{1}} r(x_{1},u_{1}) + \\beta V_{2}(g(x_{1},u_{1}))\\\\\n",
    "V_{0}(x_{0}) &= \\max_{u_{0}} r(x_{0},u_{0}) + \\beta V_{1}(g(x_{0},u_{0}))\n",
    "\\end{align}\n",
    "Furthermore, the sequence $\\{u_t\\}_{t=0}^T$ that solves each Bellman equation is the solution to the original sequential problem.*\n",
    "\n",
    "Here we skip a formal proof, but the idea of the proof is a mathematical induction.\n",
    "This proposition clearly illustrates that a finite-horizon problem can be solved by backward induction.\n",
    "\n"
   ]
  },
  {
   "cell_type": "markdown",
   "metadata": {
    "slideshow": {
     "slide_type": "subslide"
    }
   },
   "source": [
    "## Infinite-Horizon DP\n",
    "\n",
    "Now, let's consider a sequential infinite-horizon problem.\n",
    "\n",
    "$$W(x_0) \\equiv \\max_{\\{u_t\\}} \\sum_{t=0}^\\infty \\beta^t r(x_t, u_t)$$\n",
    "\n",
    "subject to a constraint:\n",
    "\n",
    "$$x_{t+1} = g(x_t,u_t), \\quad t=0,1,2,...$$\n",
    "\n",
    "with $x_0>0$ given.\n",
    "\n",
    "In the infinite horizon problem, the principal complication arises from the fact that there is no end period. This implies that we are not able to use a backward induction to solve the problem. But instead we make use of properties of stationarity. Note that this problem is stationary in the sense that the return function is not time-dependent. In other words, instead of finding an infinite sequence of controls $\\{u_t\\}_{t=0}^\\infty$, DP seeks a time-invariant *policy function* $u_t = h(x_t)$ and the associated *value function* $V(x_t)$. The stationarity implies that if the state for any two different points in time is the same, the policy must be the same. This doesn't mean that the information set is the same at those two different points in time.\n",
    "\n",
    "The Bellman equation of this sequential problem can be written as follows:\n",
    "\n",
    "\\begin{equation}\n",
    "V(x_t) = \\max_{u_t} r(x_t,u_t) + \\beta V(g(x_t,u_t))\n",
    "\\end{equation}\n",
    "or since the policy function and value function are time-invariant, we often ignore time subscript and put $x_{t+1} = x'$:\n",
    "\\begin{equation}\n",
    "V(x) = \\max_{u} r(x,u) + \\beta V(x') \\quad \\text{s.t.} \\quad x' = g(x,u)\n",
    "\\end{equation}\n",
    "\n",
    "\n",
    "Assume that the value function $V$ is differentiable (note that Benveniste-Scheinkman Theorem shows that under a weak assumption the value function is differentiable). Then the first-order condition becomes\n",
    "\n",
    "\\begin{equation}\n",
    "\\frac{\\partial r(x,u)}{\\partial u} + \\beta \\frac{dV(x')}{dx'} \\frac{\\partial g(x,u)}{\\partial u} = 0\n",
    "\\end{equation}\n",
    "\n",
    "Also by the envelope theorem,\n",
    "\\begin{equation}\n",
    "\\frac{d V}{d x} = \\frac{\\partial r(x,u)}{\\partial x} + \\beta \\frac{dV}{dx'} \\frac{\\partial g(x,u)}{\\partial x}\n",
    "\\end{equation}\n",
    "Note that these two conditions formulate an intertemporal optimality condition.\n",
    "\n",
    "In general, solving for an explicit form of policy and value functions is in most cases impossible (only for some cases are possible) and hence we have to use computational algorithms to numericallly solve this problem.\n",
    "\n",
    "\n"
   ]
  },
  {
   "cell_type": "markdown",
   "metadata": {},
   "source": [
    "[Add] Principle of Optimality\n",
    "Contraction Mapping\n",
    "Convergence of value function"
   ]
  },
  {
   "cell_type": "markdown",
   "metadata": {},
   "source": [
    "[Add] Approximation of function"
   ]
  },
  {
   "cell_type": "markdown",
   "metadata": {
    "slideshow": {
     "slide_type": "slide"
    }
   },
   "source": [
    "# Numerical Implementation of DP\n",
    "\n",
    "In this section, we introduce a numerical method to solve a dynamic programming problem. To be explicit about a problem we are solving, let's use a standard neoclassical growth model."
   ]
  },
  {
   "cell_type": "markdown",
   "metadata": {
    "slideshow": {
     "slide_type": "subslide"
    }
   },
   "source": [
    "## Neoclassical Growth Model\n",
    "\n",
    "The sequential formulation of the problem is the following. The representative agent chooses a sequence of consumption to maximize the following present discounted utility:\n",
    "\n",
    "\\begin{equation}\n",
    "\\sum^{\\infty}_{t=0} \\beta^t u(c_t)\n",
    "\\end{equation}\n",
    "\n",
    "where $\\beta \\in (0,1)$, $c_t \\in \\mathbb{R_+}$ is consumption, $u:\\mathbb{R_+}\\rightarrow \\mathbb{R}$ is an increasing, strictly concave, and differentiable function.\n",
    "\n",
    "Given the initial stock of capital $k_0> 0$, a resource constraint in this economy is:\n",
    "\n",
    "\\begin{equation}\n",
    "c_t + x_t \\leq f(k_t)\n",
    "\\end{equation}\n",
    "\n",
    "where $x_t\\in \\mathbb{R_+}$ is a flow gross investment, $k_t\\in \\mathbb{R_+}$ is a stock of capital, and $f:\\mathbb{R_+} \\rightarrow \\mathbb{R}$ is an increasing, strictly concave, and differentiable production function. Also, we assume an interior solution.\n",
    "\n",
    "The law of motion for capital is:\n",
    "\n",
    "\\begin{equation}\n",
    "k_{t+1} \\leq (1-\\delta)k_t + x_t\n",
    "\\end{equation}\n",
    "\n",
    "where $\\delta\\in[0,1]$ is a depreciation rate of capital.\n",
    "\n",
    "\n",
    "**Recursive Formulation of the Problem:**\n",
    "\n",
    "Bellman equation of the problem can be written as\n",
    "\n",
    "\\begin{equation}\n",
    "V(k) = \\max u(f(k)+(1-\\delta)k-k') + \\beta V(k')\n",
    "\\end{equation}\n",
    "\n",
    "Then, we need to find a time-invariant value function $V(k)$ and policy function $h(k) = k'$.\n"
   ]
  },
  {
   "cell_type": "markdown",
   "metadata": {
    "slideshow": {
     "slide_type": "subslide"
    }
   },
   "source": [
    "## Value Function Iteration\n",
    "\n",
    "To numerically solve the problem, we use a value function iteration algorithm to solve the problem. The algorithm follows the steps below.\n",
    "\n",
    "1. Choose any $ v^0 \\in \\mathbb{R}^n $, and specify $ \\varepsilon > 0 $; set $ i = 0 $  \n",
    "1. Compute $ v^{i+1} = T v^i $  \n",
    "1. If $ \\lVert v^{i+1} - v^i\\rVert <  [(1 - \\beta) / (2\\beta)] \\varepsilon $,\n",
    "  then go to step 4; otherwise, set $ i = i + 1 $ and go to step 2  \n",
    "1. Compute a associated policy function $ \\sigma $, and return $ v^{i+1} $ and $ \\sigma $  \n",
    "\n",
    "\n",
    "Given $ \\varepsilon > 0 $, the value fucntion iteration algorithm\n",
    "\n",
    "- terminates in a finite number of iterations  \n",
    "- returns an $ \\varepsilon/2 $-approximation of the optimal value function and an $ \\varepsilon $-optimal policy function (unless `iter_max` is reached)  \n",
    "\n",
    "\n",
    "(While not explicit, in the actual implementation each algorithm is\n",
    "terminated if the number of iterations reaches `iter_max`)\n",
    "\n",
    "\n",
    "**Setup 1. Define NGM class (object oriented programming).**"
   ]
  },
  {
   "cell_type": "code",
   "execution_count": 2,
   "metadata": {
    "slideshow": {
     "slide_type": "fragment"
    }
   },
   "outputs": [],
   "source": [
    "import numpy as np\n",
    "\n",
    "class ngm:\n",
    "    # INITIALIZATION OF NGM CLASS WITH GIVEN PREDETERMINED PARAMETERS VALUES\n",
    "    def __init__(self,  nk      = 1000,\n",
    "                        α       = 0.34,\n",
    "                        β       = 0.95,\n",
    "                        σ       = 2,\n",
    "                        δ       = 0.04):\n",
    "\n",
    "        # GRID FOR k\n",
    "        self.nk             = nk\n",
    "        self.kgrid          = np.zeros(nk)\n",
    "\n",
    "        # MODEL PARAMETERS\n",
    "        self.α              = α\n",
    "        self.β              = β\n",
    "        self.σ              = σ\n",
    "        self.δ              = δ\n",
    "        \n",
    "        # COMPUTE STEADY STATE CAPITAL-LABOR RATIO\n",
    "        self.k_ss           = ((1/β-1+δ)/α)**(1/(α-1))\n",
    "\n",
    "        # INITIALIZE VALUE FUNCTION AND POLICY FUNCTION\n",
    "        self.V              = np.zeros(nk)\n",
    "        self.kp             = np.zeros(nk)\n",
    "\n",
    "\n",
    "    def init_kgrid(self):\n",
    "        '''\n",
    "        This function constructs and returns grid points for state k.\n",
    "        The grid points are in equidistance.\n",
    "        '''\n",
    "        # THE MIN AND MAX VALUES OF k RANGE\n",
    "        kmin = 0.5*self.k_ss\n",
    "        kmax = 1.5*self.k_ss\n",
    "\n",
    "        # DISCRETIZE THE RANGE WITH NK GRID POINTS BY AN EQUIDISTANCE\n",
    "        self.kgrid = np.linspace(kmin,kmax,self.nk)\n",
    "        \n",
    "        # RETURN THE GRID POINTS\n",
    "        return self.kgrid\n",
    "\n",
    "\n",
    "    def util(self,cons):\n",
    "        '''\n",
    "        This function returns the value of CRRA utility with σ\n",
    "        u(c) = c**(1-σ)/(1-σ)\n",
    "        '''\n",
    "        if self.σ != 1:\n",
    "            uu = cons**(1-self.σ)/(1-self.σ)\n",
    "        else:\n",
    "            uu = np.log(cons)\n",
    "        return uu\n",
    "\n",
    "    def get_V(self):\n",
    "        '''\n",
    "        This function returns the value function\n",
    "        '''\n",
    "        return self.V\n",
    "\n",
    "    def set_V(self,VV):\n",
    "        '''\n",
    "        This function updates the value function\n",
    "        '''\n",
    "        self.V   = VV\n",
    "        \n",
    "    def set_kp(self,kp):\n",
    "        '''\n",
    "        This function updates the policy function\n",
    "        '''\n",
    "        self.kp   = kp        "
   ]
  },
  {
   "cell_type": "markdown",
   "metadata": {
    "slideshow": {
     "slide_type": "subslide"
    }
   },
   "source": [
    "**Setup 2. Construct Bellman equation**"
   ]
  },
  {
   "cell_type": "code",
   "execution_count": 3,
   "metadata": {
    "slideshow": {
     "slide_type": "fragment"
    }
   },
   "outputs": [],
   "source": [
    "def bellman(kp,k0,kgrid,VV,α,β,σ,δ):\n",
    "    '''\n",
    "    This function computes bellman equation for a given state k0.\n",
    "    Input:\n",
    "        kp: an evaluating point of k'\n",
    "        k0: current state of capital-labor ratio\n",
    "        kgrid: predetermined discrete state space\n",
    "        VV: next period's value function at k'\n",
    "        α,β,σ,δ: model parameters\n",
    "    Output:\n",
    "        -vv: value function (negative so that fminbound search for a minimum value)\n",
    "    ''' \n",
    "\n",
    "    # Interpolate next period's value function evaluated at k'\n",
    "    # using 1-dimensional interpolation function in numpy\n",
    "    V1         = np.interp(kp,kgrid,VV)\n",
    "        \n",
    "    # Interpolated value cannot be NaN or Inf\n",
    "    if np.isnan(V1) or np.isinf(V1): print(\"bellman: V1 is NaN.\")\n",
    "\n",
    "    # Compute consumption at a given k0 and k'\n",
    "    cons = k0**α + (1 - δ)*k0 - kp\n",
    "    \n",
    "    # Consumption must be non-negative\n",
    "    if cons<=0:\n",
    "        # Assign some large negative values\n",
    "        vv = cons*1000\n",
    "    else:\n",
    "        # Compute value function\n",
    "        vv  = cons**(1-σ)/(1-σ) + β*V1\n",
    "    \n",
    "    return -vv\n"
   ]
  },
  {
   "cell_type": "markdown",
   "metadata": {
    "slideshow": {
     "slide_type": "subslide"
    }
   },
   "source": [
    "**Step 1. Set model parameters and instantiate an NGM object**"
   ]
  },
  {
   "cell_type": "code",
   "execution_count": 10,
   "metadata": {
    "slideshow": {
     "slide_type": "fragment"
    }
   },
   "outputs": [],
   "source": [
    "# Set values on model parameters\n",
    "α, β, σ, δ, nk = 0.34, 0.95, 2, 0.01, 100\n",
    "\n",
    "# Instantiate NGM object\n",
    "hh = ngm(nk, α, β, σ, δ)"
   ]
  },
  {
   "cell_type": "markdown",
   "metadata": {
    "slideshow": {
     "slide_type": "subslide"
    }
   },
   "source": [
    "**Step 2. Discretize state space**\n",
    "\n",
    "To numerically solve the problem above, we have to find a time-invariant value function, $V(k)$, and policy function, $h(k)$, both of which are defined over a state space, say, $[k_{min},k_{max}]$. Even though the state space is a convex set $k \\in [k_{min},k_{max}]$, we have to first discretize the state space, so that the value function and policy function can be evaluated at each point in the state space. Therefore, we discretize the state space into $N_k$ grid points: $\\{k_0,k_1,k_2,...,k_{N_k-1},k_{N_k}\\}$. One of the widely used discretization method is by equi-distance."
   ]
  },
  {
   "cell_type": "code",
   "execution_count": 11,
   "metadata": {
    "slideshow": {
     "slide_type": "fragment"
    }
   },
   "outputs": [],
   "source": [
    "# Construct discretized state space in NGM object\n",
    "kgrid = hh.init_kgrid()"
   ]
  },
  {
   "cell_type": "markdown",
   "metadata": {
    "slideshow": {
     "slide_type": "fragment"
    }
   },
   "source": [
    "There are alternative ways to discretize the state space. For example, if you know that a function has a curvature at lower values of state variable, then you can approximate the function with more grid points in the lower valus of state variable. In that case, you split the space in equi-distance and take exponents"
   ]
  },
  {
   "cell_type": "markdown",
   "metadata": {
    "slideshow": {
     "slide_type": "subslide"
    }
   },
   "source": [
    "**Step 3. Guess an initial value function**\n",
    "\n",
    "To start iteration over the value function, we need to guess an initial value function to start with. Since we know that the value function converges to a unique point from the contraction mapping, an initial guess can be anything. Having said, a good guess will help a faster convergence than a bad guess. In this exercise, let's provide a bad guess, $V(k)=0$ for all $k$."
   ]
  },
  {
   "cell_type": "markdown",
   "metadata": {
    "slideshow": {
     "slide_type": "subslide"
    }
   },
   "source": [
    "**Step 4. Run value function iteration (VFI)**"
   ]
  },
  {
   "cell_type": "code",
   "execution_count": 12,
   "metadata": {
    "slideshow": {
     "slide_type": "fragment"
    }
   },
   "outputs": [
    {
     "name": "stdout",
     "output_type": "stream",
     "text": [
      "Number of Iteration = 1, Difference = 0.548353.\n",
      "Number of Iteration = 2, Difference = 0.520934.\n",
      "Number of Iteration = 3, Difference = 0.494887.\n",
      "Number of Iteration = 4, Difference = 0.470016.\n",
      "Number of Iteration = 5, Difference = 0.446172.\n",
      "Number of Iteration = 6, Difference = 0.423476.\n",
      "Number of Iteration = 7, Difference = 0.401882.\n",
      "Number of Iteration = 8, Difference = 0.381354.\n",
      "Number of Iteration = 9, Difference = 0.361844.\n",
      "Number of Iteration = 10, Difference = 0.343301.\n",
      "Number of Iteration = 11, Difference = 0.325675.\n",
      "Number of Iteration = 12, Difference = 0.308924.\n",
      "Number of Iteration = 13, Difference = 0.293026.\n",
      "Number of Iteration = 14, Difference = 0.277927.\n",
      "Number of Iteration = 15, Difference = 0.263593.\n",
      "Number of Iteration = 16, Difference = 0.249982.\n",
      "Number of Iteration = 17, Difference = 0.237070.\n",
      "Number of Iteration = 18, Difference = 0.224818.\n",
      "Number of Iteration = 19, Difference = 0.213197.\n",
      "Number of Iteration = 20, Difference = 0.202173.\n",
      "Number of Iteration = 21, Difference = 0.191718.\n",
      "Number of Iteration = 22, Difference = 0.181802.\n",
      "Number of Iteration = 23, Difference = 0.172401.\n",
      "Number of Iteration = 24, Difference = 0.163489.\n",
      "Number of Iteration = 25, Difference = 0.155040.\n",
      "Number of Iteration = 26, Difference = 0.147033.\n",
      "Number of Iteration = 27, Difference = 0.139443.\n",
      "Number of Iteration = 28, Difference = 0.132250.\n",
      "Number of Iteration = 29, Difference = 0.125432.\n",
      "Number of Iteration = 30, Difference = 0.118969.\n",
      "Number of Iteration = 31, Difference = 0.112844.\n",
      "Number of Iteration = 32, Difference = 0.107038.\n",
      "Number of Iteration = 33, Difference = 0.101534.\n",
      "Number of Iteration = 34, Difference = 0.096317.\n",
      "Number of Iteration = 35, Difference = 0.091371.\n",
      "Number of Iteration = 36, Difference = 0.086683.\n",
      "Number of Iteration = 37, Difference = 0.082239.\n",
      "Number of Iteration = 38, Difference = 0.078025.\n",
      "Number of Iteration = 39, Difference = 0.074031.\n",
      "Number of Iteration = 40, Difference = 0.070244.\n",
      "Number of Iteration = 41, Difference = 0.066653.\n",
      "Number of Iteration = 42, Difference = 0.063248.\n",
      "Number of Iteration = 43, Difference = 0.060019.\n",
      "Number of Iteration = 44, Difference = 0.056957.\n",
      "Number of Iteration = 45, Difference = 0.054053.\n",
      "Number of Iteration = 46, Difference = 0.051299.\n",
      "Number of Iteration = 47, Difference = 0.048687.\n",
      "Number of Iteration = 48, Difference = 0.046209.\n",
      "Number of Iteration = 49, Difference = 0.043859.\n",
      "Number of Iteration = 50, Difference = 0.041630.\n",
      "Number of Iteration = 51, Difference = 0.039515.\n",
      "Number of Iteration = 52, Difference = 0.037509.\n",
      "Number of Iteration = 53, Difference = 0.035605.\n",
      "Number of Iteration = 54, Difference = 0.033799.\n",
      "Number of Iteration = 55, Difference = 0.032086.\n",
      "Number of Iteration = 56, Difference = 0.030460.\n",
      "Number of Iteration = 57, Difference = 0.028917.\n",
      "Number of Iteration = 58, Difference = 0.027453.\n",
      "Number of Iteration = 59, Difference = 0.026064.\n",
      "Number of Iteration = 60, Difference = 0.024746.\n",
      "Number of Iteration = 61, Difference = 0.023495.\n",
      "Number of Iteration = 62, Difference = 0.022307.\n",
      "Number of Iteration = 63, Difference = 0.021180.\n",
      "Number of Iteration = 64, Difference = 0.020110.\n",
      "Number of Iteration = 65, Difference = 0.019095.\n",
      "Number of Iteration = 66, Difference = 0.018132.\n",
      "Number of Iteration = 67, Difference = 0.017217.\n",
      "Number of Iteration = 68, Difference = 0.016349.\n",
      "Number of Iteration = 69, Difference = 0.015524.\n",
      "Number of Iteration = 70, Difference = 0.014742.\n",
      "Number of Iteration = 71, Difference = 0.013999.\n",
      "Number of Iteration = 72, Difference = 0.013294.\n",
      "Number of Iteration = 73, Difference = 0.012624.\n",
      "Number of Iteration = 74, Difference = 0.011989.\n",
      "Number of Iteration = 75, Difference = 0.011385.\n",
      "Number of Iteration = 76, Difference = 0.010812.\n",
      "Number of Iteration = 77, Difference = 0.010268.\n",
      "Number of Iteration = 78, Difference = 0.009752.\n",
      "Number of Iteration = 79, Difference = 0.009262.\n",
      "Number of Iteration = 80, Difference = 0.008796.\n",
      "Number of Iteration = 81, Difference = 0.008354.\n",
      "Number of Iteration = 82, Difference = 0.007934.\n",
      "Number of Iteration = 83, Difference = 0.007535.\n",
      "Number of Iteration = 84, Difference = 0.007157.\n",
      "Number of Iteration = 85, Difference = 0.006797.\n",
      "Number of Iteration = 86, Difference = 0.006456.\n",
      "Number of Iteration = 87, Difference = 0.006132.\n",
      "Number of Iteration = 88, Difference = 0.005824.\n",
      "Number of Iteration = 89, Difference = 0.005532.\n",
      "Number of Iteration = 90, Difference = 0.005254.\n",
      "Number of Iteration = 91, Difference = 0.004990.\n",
      "Number of Iteration = 92, Difference = 0.004740.\n",
      "Number of Iteration = 93, Difference = 0.004502.\n",
      "Number of Iteration = 94, Difference = 0.004276.\n",
      "Number of Iteration = 95, Difference = 0.004062.\n",
      "Number of Iteration = 96, Difference = 0.003858.\n",
      "Number of Iteration = 97, Difference = 0.003665.\n",
      "Number of Iteration = 98, Difference = 0.003481.\n",
      "Number of Iteration = 99, Difference = 0.003306.\n",
      "Number of Iteration = 100, Difference = 0.003141.\n",
      "Number of Iteration = 101, Difference = 0.002983.\n",
      "Number of Iteration = 102, Difference = 0.002834.\n",
      "Number of Iteration = 103, Difference = 0.002692.\n",
      "Number of Iteration = 104, Difference = 0.002557.\n",
      "Number of Iteration = 105, Difference = 0.002429.\n",
      "Number of Iteration = 106, Difference = 0.002307.\n",
      "Number of Iteration = 107, Difference = 0.002191.\n",
      "Number of Iteration = 108, Difference = 0.002082.\n",
      "Number of Iteration = 109, Difference = 0.001977.\n",
      "Number of Iteration = 110, Difference = 0.001878.\n",
      "Number of Iteration = 111, Difference = 0.001784.\n",
      "Number of Iteration = 112, Difference = 0.001695.\n",
      "Number of Iteration = 113, Difference = 0.001610.\n",
      "Number of Iteration = 114, Difference = 0.001529.\n",
      "Number of Iteration = 115, Difference = 0.001453.\n",
      "Number of Iteration = 116, Difference = 0.001380.\n",
      "Number of Iteration = 117, Difference = 0.001311.\n",
      "Number of Iteration = 118, Difference = 0.001245.\n",
      "Number of Iteration = 119, Difference = 0.001183.\n",
      "Number of Iteration = 120, Difference = 0.001124.\n",
      "Number of Iteration = 121, Difference = 0.001067.\n",
      "Number of Iteration = 122, Difference = 0.001014.\n",
      "Number of Iteration = 123, Difference = 0.000963.\n",
      "Number of Iteration = 124, Difference = 0.000915.\n",
      "Number of Iteration = 125, Difference = 0.000869.\n",
      "Number of Iteration = 126, Difference = 0.000826.\n",
      "Number of Iteration = 127, Difference = 0.000784.\n",
      "Number of Iteration = 128, Difference = 0.000745.\n",
      "Number of Iteration = 129, Difference = 0.000708.\n",
      "Number of Iteration = 130, Difference = 0.000672.\n",
      "Number of Iteration = 131, Difference = 0.000639.\n",
      "Number of Iteration = 132, Difference = 0.000607.\n",
      "Number of Iteration = 133, Difference = 0.000576.\n",
      "Number of Iteration = 134, Difference = 0.000548.\n",
      "Number of Iteration = 135, Difference = 0.000520.\n",
      "Number of Iteration = 136, Difference = 0.000494.\n",
      "Number of Iteration = 137, Difference = 0.000469.\n",
      "Number of Iteration = 138, Difference = 0.000446.\n",
      "Number of Iteration = 139, Difference = 0.000424.\n",
      "Number of Iteration = 140, Difference = 0.000402.\n",
      "Number of Iteration = 141, Difference = 0.000382.\n",
      "Number of Iteration = 142, Difference = 0.000363.\n",
      "Number of Iteration = 143, Difference = 0.000345.\n",
      "Number of Iteration = 144, Difference = 0.000328.\n",
      "Number of Iteration = 145, Difference = 0.000311.\n",
      "Number of Iteration = 146, Difference = 0.000296.\n",
      "Number of Iteration = 147, Difference = 0.000281.\n",
      "Number of Iteration = 148, Difference = 0.000267.\n",
      "Number of Iteration = 149, Difference = 0.000254.\n",
      "Number of Iteration = 150, Difference = 0.000241.\n",
      "Number of Iteration = 151, Difference = 0.000229.\n",
      "Number of Iteration = 152, Difference = 0.000217.\n",
      "Number of Iteration = 153, Difference = 0.000207.\n",
      "Number of Iteration = 154, Difference = 0.000196.\n",
      "Number of Iteration = 155, Difference = 0.000186.\n",
      "Number of Iteration = 156, Difference = 0.000177.\n",
      "Number of Iteration = 157, Difference = 0.000168.\n",
      "Number of Iteration = 158, Difference = 0.000160.\n",
      "Number of Iteration = 159, Difference = 0.000152.\n",
      "Number of Iteration = 160, Difference = 0.000144.\n",
      "Number of Iteration = 161, Difference = 0.000137.\n",
      "Number of Iteration = 162, Difference = 0.000130.\n",
      "Number of Iteration = 163, Difference = 0.000124.\n",
      "Number of Iteration = 164, Difference = 0.000117.\n",
      "Number of Iteration = 165, Difference = 0.000112.\n",
      "Number of Iteration = 166, Difference = 0.000106.\n",
      "Number of Iteration = 167, Difference = 0.000101.\n",
      "Number of Iteration = 168, Difference = 0.000096.\n",
      "Number of Iteration = 169, Difference = 0.000091.\n",
      "Number of Iteration = 170, Difference = 0.000086.\n",
      "Number of Iteration = 171, Difference = 0.000082.\n",
      "Number of Iteration = 172, Difference = 0.000078.\n",
      "Number of Iteration = 173, Difference = 0.000074.\n",
      "Number of Iteration = 174, Difference = 0.000070.\n",
      "Number of Iteration = 175, Difference = 0.000067.\n",
      "Number of Iteration = 176, Difference = 0.000063.\n",
      "Number of Iteration = 177, Difference = 0.000060.\n",
      "Number of Iteration = 178, Difference = 0.000057.\n",
      "Number of Iteration = 179, Difference = 0.000054.\n",
      "Number of Iteration = 180, Difference = 0.000052.\n",
      "Number of Iteration = 181, Difference = 0.000049.\n",
      "Number of Iteration = 182, Difference = 0.000047.\n",
      "Number of Iteration = 183, Difference = 0.000044.\n",
      "Number of Iteration = 184, Difference = 0.000042.\n",
      "Number of Iteration = 185, Difference = 0.000040.\n",
      "Number of Iteration = 186, Difference = 0.000038.\n",
      "Number of Iteration = 187, Difference = 0.000036.\n",
      "Number of Iteration = 188, Difference = 0.000034.\n",
      "Number of Iteration = 189, Difference = 0.000033.\n",
      "Number of Iteration = 190, Difference = 0.000031.\n"
     ]
    },
    {
     "name": "stdout",
     "output_type": "stream",
     "text": [
      "Number of Iteration = 191, Difference = 0.000029.\n",
      "Number of Iteration = 192, Difference = 0.000028.\n",
      "Number of Iteration = 193, Difference = 0.000027.\n",
      "Number of Iteration = 194, Difference = 0.000025.\n",
      "Number of Iteration = 195, Difference = 0.000024.\n",
      "Number of Iteration = 196, Difference = 0.000023.\n",
      "Number of Iteration = 197, Difference = 0.000022.\n",
      "Number of Iteration = 198, Difference = 0.000021.\n",
      "Number of Iteration = 199, Difference = 0.000019.\n",
      "Number of Iteration = 200, Difference = 0.000019.\n",
      "Number of Iteration = 201, Difference = 0.000018.\n",
      "Number of Iteration = 202, Difference = 0.000017.\n",
      "Number of Iteration = 203, Difference = 0.000016.\n",
      "Number of Iteration = 204, Difference = 0.000015.\n",
      "Number of Iteration = 205, Difference = 0.000014.\n",
      "Number of Iteration = 206, Difference = 0.000014.\n",
      "Number of Iteration = 207, Difference = 0.000013.\n",
      "Number of Iteration = 208, Difference = 0.000012.\n",
      "Number of Iteration = 209, Difference = 0.000012.\n",
      "Number of Iteration = 210, Difference = 0.000011.\n",
      "Number of Iteration = 211, Difference = 0.000011.\n",
      "Number of Iteration = 212, Difference = 0.000010.\n",
      "Number of Iteration = 213, Difference = 0.000010.\n",
      "Value function converged. The elapsed time = 10.648239. \n"
     ]
    },
    {
     "data": {
      "image/png": "[encoded data removed]",
      "text/plain": [
       "<Figure size 700x500 with 1 Axes>"
      ]
     },
     "metadata": {},
     "output_type": "display_data"
    },
    {
     "data": {
      "image/png": "[encoded data removed]",
      "text/plain": [
       "<Figure size 700x500 with 1 Axes>"
      ]
     },
     "metadata": {},
     "output_type": "display_data"
    }
   ],
   "source": [
    "from scipy.optimize import fminbound\n",
    "import sys\n",
    "import matplotlib.pyplot as plt\n",
    "import time\n",
    "\n",
    "\n",
    "# Set tolerance parameter and an arbitrary initial difference\n",
    "tol = 1e-5\n",
    "diff = 1e5\n",
    "niter  = 0\n",
    "\n",
    "#Iterate until the difference of old and new value functions are less than the tolerance level\n",
    "tic = time.perf_counter()\n",
    "while diff>tol:\n",
    "\n",
    "    # Start with the current value function\n",
    "    V_old   = hh.get_V()\n",
    "    V_new   = np.zeros(nk)\n",
    "    kp_new  = np.zeros(nk)\n",
    "\n",
    "    \n",
    "    # Solve for optimal capital and value function at each point of state k\n",
    "    for ik in range(nk):\n",
    "        k0 = kgrid[ik]\n",
    "        kmin = kgrid[0]\n",
    "        kmax = kgrid[nk-1]\n",
    "        kp_new[ik] = fminbound(bellman,kmin,kmax,args=(k0,kgrid,V_old,hh.α,hh.β,hh.σ,hh.δ))\n",
    "        V_new[ik] = -bellman(kp_new[ik],k0,kgrid,V_old,hh.α,hh.β,hh.σ,hh.δ)\n",
    "    \n",
    "    # Update the policy and value functions\n",
    "    hh.set_V(V_new)\n",
    "    hh.set_kp(kp_new)\n",
    "    \n",
    "    # Compute the difference between new and old value functions by sup norm\n",
    "    diff = np.max(abs(V_new-V_old))\n",
    "    niter += 1\n",
    "    if niter%1==0:\n",
    "        sys.stdout.write('Number of Iteration = %d, Difference = %f.\\n' % (niter,diff))\n",
    "\n",
    "toc = time.perf_counter()\n",
    "sys.stdout.write('Value function converged. The elapsed time = %f seconds.\\n' % (toc-tic))\n",
    "\n",
    "# Plot Value Function\n",
    "fig, ax = plt.subplots(figsize=(7, 5))\n",
    "plt.plot(hh.kgrid, hh.V,label=\"$V(k)$\")\n",
    "plt.legend(loc='lower right', fontsize = 14)\n",
    "plt.show()\n",
    "\n",
    "# Plot Policy Function\n",
    "fig, ax = plt.subplots(figsize=(7, 5))\n",
    "plt.plot(hh.kgrid, hh.kp,label=\"$k'=g(k)$\")\n",
    "plt.plot(hh.kgrid, hh.kgrid,label=\"$k=k'$\")\n",
    "plt.legend(loc='lower right', fontsize = 14)\n",
    "plt.show()"
   ]
  },
  {
   "cell_type": "markdown",
   "metadata": {
    "slideshow": {
     "slide_type": "subslide"
    }
   },
   "source": [
    "## Policy Function Iteration\n",
    "\n",
    "An alternative way of solving the problem is a *policy function iteration* or *Howard's improvement algorithm*. As its name indicates, this algorithm starts with a guess on the policy function and keeps updating the policy function instead of value function. Sometimes, this algorithm solves the problem a little faster than the VFI. Here is a brief sketch of the algorithm.\n",
    "\n",
    "In the neoclassical growth model setting, let $h()$ be the policy function, $k' = h(k)$.\n",
    "\n",
    "1. Choose any $ h^0 \\in \\mathbb{R}^n $, and specify $ \\varepsilon > 0 $; set $ i = 0 $  \n",
    "1. From the initial guess of the policy function, for each $k$ we have $\\tilde{k}' = h^0(k)$.\n",
    "1. Given $(\\tilde{k}',k)$, we can compute $u(c) = u(f(k)+(1-\\delta) - \\tilde{k}')$.\n",
    "1. If our policy function $h^i$ for any iteration $i=0,1,2,...$ was the optimal specification $h^*$, then the max operator in the bellman equation should be eliminated:\n",
    "\\begin{equation}\n",
    "v^* = u(f(k)+(1-\\delta)k-h^*) + \\beta v^*\n",
    "\\end{equation}\n",
    "1. Then, from this specification, we can solve for v^*: \n",
    "\\begin{equation}\n",
    "v^* = \\frac{1}{1-\\beta}u(f(k)+(1-\\delta)k-h^*)\n",
    "\\end{equation}\n",
    "1. If $h^i$ is not optimal, then the equation above serves as an updating equation. Therefore, by the $i$-th iteration, the updating equation becomes\n",
    "\\begin{equation}\n",
    "v^{i+1} = \\frac{1}{1-\\beta}u(f(k)+(1-\\delta)k-h^{i})\n",
    "\\end{equation}\n",
    "1. If $ \\lVert v^{i+1} - v^i\\rVert <  [(1 - \\beta) / (2\\beta)] \\varepsilon $,\n",
    "  then go to step 4; otherwise, set $ i = i + 1 $ and go to step 2  \n",
    "1. An updating equation for a new policy function becomes\n",
    "\\begin{equation}\n",
    "h^{i+1} = \\underset{k'}{\\operatorname{argmax}} u(f(k)+(1-\\delta)k-k') + \\beta v^{i+1}\n",
    "\\end{equation}"
   ]
  },
  {
   "cell_type": "markdown",
   "metadata": {
    "slideshow": {
     "slide_type": "subslide"
    }
   },
   "source": [
    "## Alternative Solution Methods\n",
    "\n",
    "\n",
    "\n",
    "| Low dimension problem    | High dimension problem |\n",
    "|--|--|\n",
    "|Policy function iteration | Smolyak sparse grid methods (Krueger & Kubler 2004, etc)|\n",
    "|Projection method (Judd 1992, etc) |Adaptive grid method (Brumm & Scheidegger 2017)  |\n",
    "|Endogenous grid method (Carroll 2005, etc)| Stochastic simulation algorithm (Den Haan & Marcet 1990, etc) |\n",
    "|Envelope condition method (Maliar & Maliar 2013)  | $\\varepsilon$-distinguishable set method (Judd, Maliar & Maliar 2015)|\n",
    "|Precomputation method (Judd, Maliar, Maliar, & Tsener 2017)  |Cluster grid method (Judd, Maliar & Maliar 2015) |\n",
    "| &nbsp; | Perturbation Method (Judd & Guu 1993, etc)\n"
   ]
  }
 ],
 "metadata": {
  "celltoolbar": "Slideshow",
  "kernelspec": {
   "display_name": "Python 3 (ipykernel)",
   "language": "python",
   "name": "python3"
  },
  "language_info": {
   "codemirror_mode": {
    "name": "ipython",
    "version": 3
   },
   "file_extension": ".py",
   "mimetype": "text/x-python",
   "name": "python",
   "nbconvert_exporter": "python",
   "pygments_lexer": "ipython3",
   "version": "3.7.4"
  },
  "rise": {
   "enable_chalkboard": true,
   "header": "<h3><b>Macroeconomic Analysis I</b></h3>",
   "height": "100%",
   "scroll": true,
   "width": "100%"
  }
 },
 "nbformat": 4,
 "nbformat_minor": 2
}
